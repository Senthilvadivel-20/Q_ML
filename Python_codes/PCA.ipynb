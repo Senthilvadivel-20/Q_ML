{
 "cells": [
  {
   "cell_type": "markdown",
   "id": "4de99b49",
   "metadata": {},
   "source": [
    "## Understand the PCA concept with simple example\n",
    "\n",
    "Let's say you have a dataset of students' grades on a test. The dataset has five features: math, science, English, history, and social studies. Each student has a grade for each subject.\n",
    "\n",
    "| Student | Math | Science | English | History | Social Studies |\n",
    "|---|---|---|---|---|---|\n",
    "| A | 90 | 95 | 80 | 75 | 85 |\n",
    "| B | 80 | 85 | 70 | 65 | 75 |\n",
    "| C | 70 | 75 | 60 | 55 | 65 |\n",
    "| D | 60 | 65 | 50 | 45 | 55 |\n",
    "| E | 50 | 55 | 40 | 35 | 45 |\n",
    "\n",
    "Create Student table sample values."
   ]
  },
  {
   "cell_type": "code",
   "execution_count": 21,
   "id": "e5d3b774",
   "metadata": {},
   "outputs": [],
   "source": [
    "# import required packages\n",
    "import pandas as pd\n",
    "import numpy as np"
   ]
  },
  {
   "cell_type": "code",
   "execution_count": 28,
   "id": "e807b221",
   "metadata": {},
   "outputs": [],
   "source": [
    "df = pd.DataFrame({\n",
    "    'Student' : ['A','B','C','D','E'],\n",
    "    'Math' : [90,83,70,60,77],\n",
    "    'Science' : [73,85,75,65,65],\n",
    "    'English' : [70,90,68,50,80],\n",
    "    'History' : [85,65,92,45,75],\n",
    "    'SS':[86,75,65,59,90]})\n",
    "\n",
    "df.set_index('Student',inplace = True)"
   ]
  },
  {
   "cell_type": "code",
   "execution_count": 29,
   "id": "b1a86c2f",
   "metadata": {},
   "outputs": [
    {
     "data": {
      "text/html": [
       "<div>\n",
       "<style scoped>\n",
       "    .dataframe tbody tr th:only-of-type {\n",
       "        vertical-align: middle;\n",
       "    }\n",
       "\n",
       "    .dataframe tbody tr th {\n",
       "        vertical-align: top;\n",
       "    }\n",
       "\n",
       "    .dataframe thead th {\n",
       "        text-align: right;\n",
       "    }\n",
       "</style>\n",
       "<table border=\"1\" class=\"dataframe\">\n",
       "  <thead>\n",
       "    <tr style=\"text-align: right;\">\n",
       "      <th></th>\n",
       "      <th>Math</th>\n",
       "      <th>Science</th>\n",
       "      <th>English</th>\n",
       "      <th>History</th>\n",
       "      <th>SS</th>\n",
       "    </tr>\n",
       "    <tr>\n",
       "      <th>Student</th>\n",
       "      <th></th>\n",
       "      <th></th>\n",
       "      <th></th>\n",
       "      <th></th>\n",
       "      <th></th>\n",
       "    </tr>\n",
       "  </thead>\n",
       "  <tbody>\n",
       "    <tr>\n",
       "      <th>A</th>\n",
       "      <td>90</td>\n",
       "      <td>73</td>\n",
       "      <td>70</td>\n",
       "      <td>85</td>\n",
       "      <td>86</td>\n",
       "    </tr>\n",
       "    <tr>\n",
       "      <th>B</th>\n",
       "      <td>83</td>\n",
       "      <td>85</td>\n",
       "      <td>90</td>\n",
       "      <td>65</td>\n",
       "      <td>75</td>\n",
       "    </tr>\n",
       "    <tr>\n",
       "      <th>C</th>\n",
       "      <td>70</td>\n",
       "      <td>75</td>\n",
       "      <td>68</td>\n",
       "      <td>92</td>\n",
       "      <td>65</td>\n",
       "    </tr>\n",
       "    <tr>\n",
       "      <th>D</th>\n",
       "      <td>60</td>\n",
       "      <td>65</td>\n",
       "      <td>50</td>\n",
       "      <td>45</td>\n",
       "      <td>59</td>\n",
       "    </tr>\n",
       "    <tr>\n",
       "      <th>E</th>\n",
       "      <td>77</td>\n",
       "      <td>65</td>\n",
       "      <td>80</td>\n",
       "      <td>75</td>\n",
       "      <td>90</td>\n",
       "    </tr>\n",
       "  </tbody>\n",
       "</table>\n",
       "</div>"
      ],
      "text/plain": [
       "         Math  Science  English  History  SS\n",
       "Student                                     \n",
       "A          90       73       70       85  86\n",
       "B          83       85       90       65  75\n",
       "C          70       75       68       92  65\n",
       "D          60       65       50       45  59\n",
       "E          77       65       80       75  90"
      ]
     },
     "execution_count": 29,
     "metadata": {},
     "output_type": "execute_result"
    }
   ],
   "source": [
    "df"
   ]
  },
  {
   "cell_type": "markdown",
   "id": "9c4093e6",
   "metadata": {},
   "source": [
    "The first step is to calculate the covariance matrix of the data. The covariance matrix is a square matrix that measures the correlation between each pair of features."
   ]
  },
  {
   "cell_type": "code",
   "execution_count": 33,
   "id": "1e034f2a",
   "metadata": {},
   "outputs": [
    {
     "data": {
      "text/html": [
       "<div>\n",
       "<style scoped>\n",
       "    .dataframe tbody tr th:only-of-type {\n",
       "        vertical-align: middle;\n",
       "    }\n",
       "\n",
       "    .dataframe tbody tr th {\n",
       "        vertical-align: top;\n",
       "    }\n",
       "\n",
       "    .dataframe thead th {\n",
       "        text-align: right;\n",
       "    }\n",
       "</style>\n",
       "<table border=\"1\" class=\"dataframe\">\n",
       "  <thead>\n",
       "    <tr style=\"text-align: right;\">\n",
       "      <th></th>\n",
       "      <th>Math</th>\n",
       "      <th>Science</th>\n",
       "      <th>English</th>\n",
       "      <th>History</th>\n",
       "      <th>SS</th>\n",
       "    </tr>\n",
       "  </thead>\n",
       "  <tbody>\n",
       "    <tr>\n",
       "      <th>Math</th>\n",
       "      <td>134.50</td>\n",
       "      <td>48.0</td>\n",
       "      <td>120.5</td>\n",
       "      <td>112.0</td>\n",
       "      <td>121.25</td>\n",
       "    </tr>\n",
       "    <tr>\n",
       "      <th>Science</th>\n",
       "      <td>48.00</td>\n",
       "      <td>68.8</td>\n",
       "      <td>79.8</td>\n",
       "      <td>37.2</td>\n",
       "      <td>-3.00</td>\n",
       "    </tr>\n",
       "    <tr>\n",
       "      <th>English</th>\n",
       "      <td>120.50</td>\n",
       "      <td>79.8</td>\n",
       "      <td>222.8</td>\n",
       "      <td>96.7</td>\n",
       "      <td>122.50</td>\n",
       "    </tr>\n",
       "    <tr>\n",
       "      <th>History</th>\n",
       "      <td>112.00</td>\n",
       "      <td>37.2</td>\n",
       "      <td>96.7</td>\n",
       "      <td>338.8</td>\n",
       "      <td>105.00</td>\n",
       "    </tr>\n",
       "    <tr>\n",
       "      <th>SS</th>\n",
       "      <td>121.25</td>\n",
       "      <td>-3.0</td>\n",
       "      <td>122.5</td>\n",
       "      <td>105.0</td>\n",
       "      <td>175.50</td>\n",
       "    </tr>\n",
       "  </tbody>\n",
       "</table>\n",
       "</div>"
      ],
      "text/plain": [
       "           Math  Science  English  History      SS\n",
       "Math     134.50     48.0    120.5    112.0  121.25\n",
       "Science   48.00     68.8     79.8     37.2   -3.00\n",
       "English  120.50     79.8    222.8     96.7  122.50\n",
       "History  112.00     37.2     96.7    338.8  105.00\n",
       "SS       121.25     -3.0    122.5    105.0  175.50"
      ]
     },
     "execution_count": 33,
     "metadata": {},
     "output_type": "execute_result"
    }
   ],
   "source": [
    "covariance_matrix = df.cov()\n",
    "covariance_matrix"
   ]
  },
  {
   "cell_type": "markdown",
   "id": "7aece8ff",
   "metadata": {},
   "source": [
    "The next step is to find the eigenvalues and eigenvectors of the covariance matrix. The eigenvalues are the variances of the principal components, and the eigenvectors are the directions of the principal components."
   ]
  },
  {
   "cell_type": "code",
   "execution_count": 34,
   "id": "d59ce105",
   "metadata": {},
   "outputs": [],
   "source": [
    "# Find the eigenvalues and eigenvectors\n",
    "eigenvalues, eigenvectors = np.linalg.eig(covariance_matrix)"
   ]
  },
  {
   "cell_type": "code",
   "execution_count": 38,
   "id": "31f06496",
   "metadata": {},
   "outputs": [
    {
     "name": "stdout",
     "output_type": "stream",
     "text": [
      "Eigenvalues:\n",
      "[ 5.79134426e+02  2.04643774e+02 -3.21331331e-14  4.00099013e+01\n",
      "  1.16611899e+02]\n",
      "\n",
      "Eigenvectors:\n",
      "[[ 0.42121228  0.19411769  0.45667606  0.75070764  0.11306439]\n",
      " [ 0.15819477  0.16339966 -0.66465266  0.36530491 -0.61078976]\n",
      " [ 0.49140467  0.53090696  0.27626881 -0.52871994 -0.34754858]\n",
      " [ 0.60745969 -0.77373914  0.00518723 -0.12438619 -0.12969824]\n",
      " [ 0.43251451  0.23470068 -0.52281207 -0.08929541  0.69031924]]\n"
     ]
    }
   ],
   "source": [
    "print(\"Eigenvalues:\")\n",
    "print(eigenvalues)\n",
    "\n",
    "print('')\n",
    "\n",
    "print(\"Eigenvectors:\")\n",
    "print(eigenvectors)"
   ]
  },
  {
   "cell_type": "code",
   "execution_count": 40,
   "id": "ffc96ef7",
   "metadata": {},
   "outputs": [
    {
     "data": {
      "text/plain": [
       "579.134426"
      ]
     },
     "execution_count": 40,
     "metadata": {},
     "output_type": "execute_result"
    }
   ],
   "source": [
    "5.79134426e+02 "
   ]
  },
  {
   "cell_type": "code",
   "execution_count": null,
   "id": "8e11e55e",
   "metadata": {},
   "outputs": [],
   "source": []
  }
 ],
 "metadata": {
  "kernelspec": {
   "display_name": "Python 3",
   "language": "python",
   "name": "python3"
  },
  "language_info": {
   "codemirror_mode": {
    "name": "ipython",
    "version": 3
   },
   "file_extension": ".py",
   "mimetype": "text/x-python",
   "name": "python",
   "nbconvert_exporter": "python",
   "pygments_lexer": "ipython3",
   "version": "3.6.13"
  }
 },
 "nbformat": 4,
 "nbformat_minor": 5
}
