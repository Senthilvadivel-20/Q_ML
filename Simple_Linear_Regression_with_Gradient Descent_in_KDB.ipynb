{
 "cells": [
  {
   "cell_type": "markdown",
   "id": "5422d40a",
   "metadata": {},
   "source": [
    "## Implement the Linear regression algorithm with Gradient Descent in KDB+\n"
   ]
  },
  {
   "cell_type": "code",
   "execution_count": 4,
   "id": "45542ecf",
   "metadata": {},
   "outputs": [],
   "source": [
    "/matplotlib is not required. Here I have only used for visual representation.\n",
    "p)import matplotlib.pyplot as plt"
   ]
  },
  {
   "cell_type": "code",
   "execution_count": 33,
   "id": "3cae77eb",
   "metadata": {},
   "outputs": [],
   "source": [
    "X : 50?(40+til 30)\n",
    "Y : 50?(40+til 30)"
   ]
  },
  {
   "cell_type": "code",
   "execution_count": 34,
   "id": "d64afb42",
   "metadata": {},
   "outputs": [
    {
     "data": {
      "text/plain": [
       "40 58 45 43 58 48 55 69 54 67 62 50 49 51 49 53 50 60 54 49 55 44 63 48 45 52..\n"
      ]
     },
     "execution_count": 34,
     "metadata": {},
     "output_type": "execute_result"
    }
   ],
   "source": [
    "X"
   ]
  },
  {
   "cell_type": "code",
   "execution_count": 35,
   "id": "227ad37a",
   "metadata": {},
   "outputs": [
    {
     "data": {
      "text/plain": [
       "43 65 59 47 42 41 60 65 61 68 62 53 61 43 62 58 43 45 48 66 53 40 63 58 57 56..\n"
      ]
     },
     "execution_count": 35,
     "metadata": {},
     "output_type": "execute_result"
    }
   ],
   "source": [
    "Y"
   ]
  },
  {
   "cell_type": "code",
   "execution_count": 36,
   "id": "36548b12",
   "metadata": {},
   "outputs": [
    {
     "data": {
      "image/png": "[encoded data removed]",
      "text/plain": [
       "<Figure size 460.8x345.6 with 1 Axes>"
      ]
     },
     "metadata": {},
     "output_type": "display_data"
    }
   ],
   "source": [
    "/Scatter plot\n",
    "\n",
    ".p.set[`X;X]\n",
    ".p.set[`Y;Y]\n",
    "\n",
    "p)plt.scatter(X,Y)\n",
    "p)plt.show()"
   ]
  },
  {
   "cell_type": "code",
   "execution_count": 37,
   "id": "b752f31d",
   "metadata": {},
   "outputs": [
    {
     "name": "stdout",
     "output_type": "stream",
     "text": [
      "1.037643\n",
      "0\n"
     ]
    }
   ],
   "source": [
    "/ Building the model\n",
    "m : 0\n",
    "c : 0\n",
    "\n",
    "/ Learning rate\n",
    "L : 0.0001\n",
    "\n",
    "/ Number of times iterations to perform gradient descent\n",
    "epochs : 1000\n",
    "\n",
    "n : count X\n",
    "\n",
    "do[\n",
    "    epochs;\n",
    "    Y_pred: (m * X) + c ;\n",
    "    D_m : (-2 % n) * sum(X * (Y - Y_pred));\n",
    "    D_c : (-2 % n) * sum(Y - Y_pred);\n",
    "    m : m - L * D_m ;\n",
    "    c = c - L * D_c ;\n",
    "    ];\n",
    "\n",
    "show m,c"
   ]
  },
  {
   "cell_type": "code",
   "execution_count": 38,
   "id": "a4c77374",
   "metadata": {},
   "outputs": [
    {
     "data": {
      "text/plain": [
       "11111111111111111111111111111111111111111111111111b\n"
      ]
     },
     "execution_count": 38,
     "metadata": {},
     "output_type": "execute_result"
    },
    {
     "data": {
      "image/png": "[encoded data removed]",
      "text/plain": [
       "<Figure size 460.8x345.6 with 1 Axes>"
      ]
     },
     "metadata": {},
     "output_type": "display_data"
    }
   ],
   "source": [
    "Y_pred = m*X + c\n",
    "\n",
    ".p.set[`X;X]\n",
    ".p.set[`Y;Y]\n",
    ".p.set[`Y_pred;Y_pred]\n",
    "\n",
    "p)plt.scatter(X, Y) \n",
    "p)plt.plot([min(X), max(X)], [min(Y_pred), max(Y_pred)], color='red')  \n",
    "p)plt.show()"
   ]
  },
  {
   "cell_type": "code",
   "execution_count": 39,
   "id": "2f77a4c5",
   "metadata": {},
   "outputs": [],
   "source": [
    "/ under single function\n",
    "\n",
    "fit:{[X;Y]\n",
    "    m : 0;\n",
    "    c : 0;\n",
    "    L : 0.0001;\n",
    "    epochs : 1000;\n",
    "    n : count X;\n",
    "    do[\n",
    "        epochs;\n",
    "        Y_pred: (m * X) + c ;\n",
    "        D_m : (-2 % n) * sum(X * (Y - Y_pred));\n",
    "        D_c : (-2 % n) * sum(Y - Y_pred);\n",
    "        m :: m - L * D_m ;\n",
    "        c :: c - L * D_c ;\n",
    "        ];\n",
    "    :(m;c)\n",
    "    };\n",
    "\n"
   ]
  },
  {
   "cell_type": "code",
   "execution_count": 40,
   "id": "3ba3e6f9",
   "metadata": {},
   "outputs": [
    {
     "data": {
      "text/plain": [
       "1.033895 0.1996128\n"
      ]
     },
     "execution_count": 40,
     "metadata": {},
     "output_type": "execute_result"
    }
   ],
   "source": [
    "fit[X;Y]"
   ]
  },
  {
   "cell_type": "code",
   "execution_count": 42,
   "id": "8f013c3d",
   "metadata": {},
   "outputs": [],
   "source": [
    "d:fit[X;Y]\n",
    "\n",
    "m:d[0]\n",
    "c:d[1]\n",
    "\n",
    "predict:{\n",
    "    :(m*x + c)\n",
    "    }"
   ]
  },
  {
   "cell_type": "code",
   "execution_count": 43,
   "id": "365aaf75",
   "metadata": {},
   "outputs": [
    {
     "data": {
      "text/plain": [
       "44.66388\n"
      ]
     },
     "execution_count": 43,
     "metadata": {},
     "output_type": "execute_result"
    }
   ],
   "source": [
    "predict[43]"
   ]
  },
  {
   "cell_type": "code",
   "execution_count": null,
   "id": "71028311",
   "metadata": {},
   "outputs": [],
   "source": []
  }
 ],
 "metadata": {
  "kernelspec": {
   "display_name": "Q (kdb+)",
   "language": "q",
   "name": "qpk"
  },
  "language_info": {
   "file_extension": ".q",
   "mimetype": "text/x-q",
   "name": "q",
   "version": "4.0"
  }
 },
 "nbformat": 4,
 "nbformat_minor": 5
}
